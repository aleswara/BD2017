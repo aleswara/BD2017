{
 "cells": [
  {
   "cell_type": "markdown",
   "metadata": {},
   "source": [
    "### Revenue Forecasting-Trend Analysis"
   ]
  },
  {
   "cell_type": "code",
   "execution_count": 1,
   "metadata": {},
   "outputs": [],
   "source": [
    "import pandas as pd\n",
    "import matplotlib.pyplot as plt\n",
    "from matplotlib import pyplot\n",
    "import numpy as np\n",
    "from pandas import to_datetime\n",
    "from fbprophet import Prophet\n",
    "from sklearn.metrics import mean_absolute_error\n",
    "import warnings; \n",
    "warnings.simplefilter('ignore')"
   ]
  },
  {
   "cell_type": "code",
   "execution_count": 2,
   "metadata": {},
   "outputs": [
    {
     "data": {
      "text/html": [
       "<div>\n",
       "<style scoped>\n",
       "    .dataframe tbody tr th:only-of-type {\n",
       "        vertical-align: middle;\n",
       "    }\n",
       "\n",
       "    .dataframe tbody tr th {\n",
       "        vertical-align: top;\n",
       "    }\n",
       "\n",
       "    .dataframe thead th {\n",
       "        text-align: right;\n",
       "    }\n",
       "</style>\n",
       "<table border=\"1\" class=\"dataframe\">\n",
       "  <thead>\n",
       "    <tr style=\"text-align: right;\">\n",
       "      <th></th>\n",
       "      <th>appointment_date</th>\n",
       "      <th>clinic_name</th>\n",
       "      <th>patient_id</th>\n",
       "      <th>practitioner_id</th>\n",
       "      <th>appointment_duration_min</th>\n",
       "      <th>revenues_from_appointment</th>\n",
       "    </tr>\n",
       "  </thead>\n",
       "  <tbody>\n",
       "    <tr>\n",
       "      <th>0</th>\n",
       "      <td>2021-12-30</td>\n",
       "      <td>clinic_2</td>\n",
       "      <td>70172</td>\n",
       "      <td>1030</td>\n",
       "      <td>30</td>\n",
       "      <td>98.13</td>\n",
       "    </tr>\n",
       "    <tr>\n",
       "      <th>1</th>\n",
       "      <td>2021-12-29</td>\n",
       "      <td>clinic_1</td>\n",
       "      <td>53371</td>\n",
       "      <td>756</td>\n",
       "      <td>15</td>\n",
       "      <td>65.13</td>\n",
       "    </tr>\n",
       "    <tr>\n",
       "      <th>2</th>\n",
       "      <td>2021-12-29</td>\n",
       "      <td>clinic_2</td>\n",
       "      <td>69545</td>\n",
       "      <td>1030</td>\n",
       "      <td>30</td>\n",
       "      <td>105.18</td>\n",
       "    </tr>\n",
       "    <tr>\n",
       "      <th>3</th>\n",
       "      <td>2021-12-27</td>\n",
       "      <td>clinic_1</td>\n",
       "      <td>43859</td>\n",
       "      <td>756</td>\n",
       "      <td>30</td>\n",
       "      <td>58.11</td>\n",
       "    </tr>\n",
       "    <tr>\n",
       "      <th>4</th>\n",
       "      <td>2021-12-23</td>\n",
       "      <td>clinic_1</td>\n",
       "      <td>69303</td>\n",
       "      <td>756</td>\n",
       "      <td>30</td>\n",
       "      <td>119.00</td>\n",
       "    </tr>\n",
       "  </tbody>\n",
       "</table>\n",
       "</div>"
      ],
      "text/plain": [
       "  appointment_date clinic_name  patient_id  practitioner_id  \\\n",
       "0       2021-12-30    clinic_2       70172             1030   \n",
       "1       2021-12-29    clinic_1       53371              756   \n",
       "2       2021-12-29    clinic_2       69545             1030   \n",
       "3       2021-12-27    clinic_1       43859              756   \n",
       "4       2021-12-23    clinic_1       69303              756   \n",
       "\n",
       "   appointment_duration_min  revenues_from_appointment  \n",
       "0                        30                      98.13  \n",
       "1                        15                      65.13  \n",
       "2                        30                     105.18  \n",
       "3                        30                      58.11  \n",
       "4                        30                     119.00  "
      ]
     },
     "execution_count": 2,
     "metadata": {},
     "output_type": "execute_result"
    }
   ],
   "source": [
    "df=pd.read_csv(\"fake_clinic_data_extract_test.csv\")\n",
    "df.head()"
   ]
  },
  {
   "cell_type": "markdown",
   "metadata": {},
   "source": [
    "### Understanding the Data Types and Entries"
   ]
  },
  {
   "cell_type": "code",
   "execution_count": 3,
   "metadata": {},
   "outputs": [
    {
     "name": "stdout",
     "output_type": "stream",
     "text": [
      "<class 'pandas.core.frame.DataFrame'>\n",
      "RangeIndex: 4071 entries, 0 to 4070\n",
      "Data columns (total 6 columns):\n",
      " #   Column                     Non-Null Count  Dtype  \n",
      "---  ------                     --------------  -----  \n",
      " 0   appointment_date           4071 non-null   object \n",
      " 1   clinic_name                4071 non-null   object \n",
      " 2   patient_id                 4071 non-null   int64  \n",
      " 3   practitioner_id            4071 non-null   int64  \n",
      " 4   appointment_duration_min   4071 non-null   int64  \n",
      " 5   revenues_from_appointment  3696 non-null   float64\n",
      "dtypes: float64(1), int64(3), object(2)\n",
      "memory usage: 191.0+ KB\n"
     ]
    }
   ],
   "source": [
    "df.info()"
   ]
  },
  {
   "cell_type": "code",
   "execution_count": 4,
   "metadata": {},
   "outputs": [
    {
     "data": {
      "text/html": [
       "<div>\n",
       "<style scoped>\n",
       "    .dataframe tbody tr th:only-of-type {\n",
       "        vertical-align: middle;\n",
       "    }\n",
       "\n",
       "    .dataframe tbody tr th {\n",
       "        vertical-align: top;\n",
       "    }\n",
       "\n",
       "    .dataframe thead th {\n",
       "        text-align: right;\n",
       "    }\n",
       "</style>\n",
       "<table border=\"1\" class=\"dataframe\">\n",
       "  <thead>\n",
       "    <tr style=\"text-align: right;\">\n",
       "      <th></th>\n",
       "      <th>patient_id</th>\n",
       "      <th>practitioner_id</th>\n",
       "      <th>appointment_duration_min</th>\n",
       "      <th>revenues_from_appointment</th>\n",
       "    </tr>\n",
       "  </thead>\n",
       "  <tbody>\n",
       "    <tr>\n",
       "      <th>count</th>\n",
       "      <td>4071.000000</td>\n",
       "      <td>4071.000000</td>\n",
       "      <td>4071.000000</td>\n",
       "      <td>3696.000000</td>\n",
       "    </tr>\n",
       "    <tr>\n",
       "      <th>mean</th>\n",
       "      <td>50352.166789</td>\n",
       "      <td>766.627364</td>\n",
       "      <td>42.246377</td>\n",
       "      <td>160.864115</td>\n",
       "    </tr>\n",
       "    <tr>\n",
       "      <th>std</th>\n",
       "      <td>7371.897408</td>\n",
       "      <td>64.550564</td>\n",
       "      <td>28.539519</td>\n",
       "      <td>245.706333</td>\n",
       "    </tr>\n",
       "    <tr>\n",
       "      <th>min</th>\n",
       "      <td>42127.000000</td>\n",
       "      <td>741.000000</td>\n",
       "      <td>15.000000</td>\n",
       "      <td>33.540000</td>\n",
       "    </tr>\n",
       "    <tr>\n",
       "      <th>25%</th>\n",
       "      <td>44646.000000</td>\n",
       "      <td>742.000000</td>\n",
       "      <td>30.000000</td>\n",
       "      <td>72.160000</td>\n",
       "    </tr>\n",
       "    <tr>\n",
       "      <th>50%</th>\n",
       "      <td>47388.000000</td>\n",
       "      <td>755.000000</td>\n",
       "      <td>30.000000</td>\n",
       "      <td>104.470000</td>\n",
       "    </tr>\n",
       "    <tr>\n",
       "      <th>75%</th>\n",
       "      <td>53373.000000</td>\n",
       "      <td>756.000000</td>\n",
       "      <td>60.000000</td>\n",
       "      <td>161.630000</td>\n",
       "    </tr>\n",
       "    <tr>\n",
       "      <th>max</th>\n",
       "      <td>70307.000000</td>\n",
       "      <td>1030.000000</td>\n",
       "      <td>330.000000</td>\n",
       "      <td>5655.920000</td>\n",
       "    </tr>\n",
       "  </tbody>\n",
       "</table>\n",
       "</div>"
      ],
      "text/plain": [
       "         patient_id  practitioner_id  appointment_duration_min  \\\n",
       "count   4071.000000      4071.000000               4071.000000   \n",
       "mean   50352.166789       766.627364                 42.246377   \n",
       "std     7371.897408        64.550564                 28.539519   \n",
       "min    42127.000000       741.000000                 15.000000   \n",
       "25%    44646.000000       742.000000                 30.000000   \n",
       "50%    47388.000000       755.000000                 30.000000   \n",
       "75%    53373.000000       756.000000                 60.000000   \n",
       "max    70307.000000      1030.000000                330.000000   \n",
       "\n",
       "       revenues_from_appointment  \n",
       "count                3696.000000  \n",
       "mean                  160.864115  \n",
       "std                   245.706333  \n",
       "min                    33.540000  \n",
       "25%                    72.160000  \n",
       "50%                   104.470000  \n",
       "75%                   161.630000  \n",
       "max                  5655.920000  "
      ]
     },
     "execution_count": 4,
     "metadata": {},
     "output_type": "execute_result"
    }
   ],
   "source": [
    "df.describe()"
   ]
  },
  {
   "cell_type": "code",
   "execution_count": 5,
   "metadata": {},
   "outputs": [
    {
     "data": {
      "text/plain": [
       "(4071, 6)"
      ]
     },
     "execution_count": 5,
     "metadata": {},
     "output_type": "execute_result"
    }
   ],
   "source": [
    "df.shape"
   ]
  },
  {
   "cell_type": "code",
   "execution_count": 6,
   "metadata": {},
   "outputs": [
    {
     "data": {
      "text/html": [
       "<div>\n",
       "<style scoped>\n",
       "    .dataframe tbody tr th:only-of-type {\n",
       "        vertical-align: middle;\n",
       "    }\n",
       "\n",
       "    .dataframe tbody tr th {\n",
       "        vertical-align: top;\n",
       "    }\n",
       "\n",
       "    .dataframe thead th {\n",
       "        text-align: right;\n",
       "    }\n",
       "</style>\n",
       "<table border=\"1\" class=\"dataframe\">\n",
       "  <thead>\n",
       "    <tr style=\"text-align: right;\">\n",
       "      <th></th>\n",
       "      <th></th>\n",
       "      <th>revenues_from_appointment</th>\n",
       "      <th>patient_id</th>\n",
       "    </tr>\n",
       "    <tr>\n",
       "      <th>clinic_name</th>\n",
       "      <th>appointment_date</th>\n",
       "      <th></th>\n",
       "      <th></th>\n",
       "    </tr>\n",
       "  </thead>\n",
       "  <tbody>\n",
       "    <tr>\n",
       "      <th rowspan=\"5\" valign=\"top\">clinic_1</th>\n",
       "      <th>2021-07-07</th>\n",
       "      <td>130.475000</td>\n",
       "      <td>4</td>\n",
       "    </tr>\n",
       "    <tr>\n",
       "      <th>2021-07-08</th>\n",
       "      <td>150.174286</td>\n",
       "      <td>8</td>\n",
       "    </tr>\n",
       "    <tr>\n",
       "      <th>2021-07-09</th>\n",
       "      <td>101.121429</td>\n",
       "      <td>7</td>\n",
       "    </tr>\n",
       "    <tr>\n",
       "      <th>2021-07-12</th>\n",
       "      <td>178.963158</td>\n",
       "      <td>20</td>\n",
       "    </tr>\n",
       "    <tr>\n",
       "      <th>2021-07-13</th>\n",
       "      <td>111.310000</td>\n",
       "      <td>12</td>\n",
       "    </tr>\n",
       "    <tr>\n",
       "      <th>...</th>\n",
       "      <th>...</th>\n",
       "      <td>...</td>\n",
       "      <td>...</td>\n",
       "    </tr>\n",
       "    <tr>\n",
       "      <th rowspan=\"5\" valign=\"top\">clinic_2</th>\n",
       "      <th>2021-12-23</th>\n",
       "      <td>197.284118</td>\n",
       "      <td>17</td>\n",
       "    </tr>\n",
       "    <tr>\n",
       "      <th>2021-12-27</th>\n",
       "      <td>140.678182</td>\n",
       "      <td>12</td>\n",
       "    </tr>\n",
       "    <tr>\n",
       "      <th>2021-12-28</th>\n",
       "      <td>145.580000</td>\n",
       "      <td>14</td>\n",
       "    </tr>\n",
       "    <tr>\n",
       "      <th>2021-12-29</th>\n",
       "      <td>140.366923</td>\n",
       "      <td>14</td>\n",
       "    </tr>\n",
       "    <tr>\n",
       "      <th>2021-12-30</th>\n",
       "      <td>109.973750</td>\n",
       "      <td>11</td>\n",
       "    </tr>\n",
       "  </tbody>\n",
       "</table>\n",
       "<p>251 rows × 2 columns</p>\n",
       "</div>"
      ],
      "text/plain": [
       "                              revenues_from_appointment  patient_id\n",
       "clinic_name appointment_date                                       \n",
       "clinic_1    2021-07-07                       130.475000           4\n",
       "            2021-07-08                       150.174286           8\n",
       "            2021-07-09                       101.121429           7\n",
       "            2021-07-12                       178.963158          20\n",
       "            2021-07-13                       111.310000          12\n",
       "...                                                 ...         ...\n",
       "clinic_2    2021-12-23                       197.284118          17\n",
       "            2021-12-27                       140.678182          12\n",
       "            2021-12-28                       145.580000          14\n",
       "            2021-12-29                       140.366923          14\n",
       "            2021-12-30                       109.973750          11\n",
       "\n",
       "[251 rows x 2 columns]"
      ]
     },
     "execution_count": 6,
     "metadata": {},
     "output_type": "execute_result"
    }
   ],
   "source": [
    "df.groupby([\"clinic_name\", \"appointment_date\"]).agg({\"revenues_from_appointment\":\"mean\",\"patient_id\":\"count\"})"
   ]
  },
  {
   "cell_type": "markdown",
   "metadata": {},
   "source": [
    "### Note:\n",
    "#### For Prediction of revenue the time-line and the Revenue are the point of focus so i am seperating only two focused colums for our further work . I am Replacing all Null values with 0 to overcome outliers. "
   ]
  },
  {
   "cell_type": "code",
   "execution_count": 7,
   "metadata": {},
   "outputs": [
    {
     "data": {
      "text/html": [
       "<div>\n",
       "<style scoped>\n",
       "    .dataframe tbody tr th:only-of-type {\n",
       "        vertical-align: middle;\n",
       "    }\n",
       "\n",
       "    .dataframe tbody tr th {\n",
       "        vertical-align: top;\n",
       "    }\n",
       "\n",
       "    .dataframe thead th {\n",
       "        text-align: right;\n",
       "    }\n",
       "</style>\n",
       "<table border=\"1\" class=\"dataframe\">\n",
       "  <thead>\n",
       "    <tr style=\"text-align: right;\">\n",
       "      <th></th>\n",
       "      <th>appointment_date</th>\n",
       "      <th>revenues_from_appointment</th>\n",
       "    </tr>\n",
       "  </thead>\n",
       "  <tbody>\n",
       "    <tr>\n",
       "      <th>0</th>\n",
       "      <td>2021-12-30</td>\n",
       "      <td>98.13</td>\n",
       "    </tr>\n",
       "    <tr>\n",
       "      <th>1</th>\n",
       "      <td>2021-12-29</td>\n",
       "      <td>65.13</td>\n",
       "    </tr>\n",
       "    <tr>\n",
       "      <th>2</th>\n",
       "      <td>2021-12-29</td>\n",
       "      <td>105.18</td>\n",
       "    </tr>\n",
       "    <tr>\n",
       "      <th>3</th>\n",
       "      <td>2021-12-27</td>\n",
       "      <td>58.11</td>\n",
       "    </tr>\n",
       "    <tr>\n",
       "      <th>4</th>\n",
       "      <td>2021-12-23</td>\n",
       "      <td>119.00</td>\n",
       "    </tr>\n",
       "  </tbody>\n",
       "</table>\n",
       "</div>"
      ],
      "text/plain": [
       "  appointment_date  revenues_from_appointment\n",
       "0       2021-12-30                      98.13\n",
       "1       2021-12-29                      65.13\n",
       "2       2021-12-29                     105.18\n",
       "3       2021-12-27                      58.11\n",
       "4       2021-12-23                     119.00"
      ]
     },
     "execution_count": 7,
     "metadata": {},
     "output_type": "execute_result"
    }
   ],
   "source": [
    "df = df.loc[:,('appointment_date', 'revenues_from_appointment')].fillna(0) # Replacing Null values with 0 to overcome outliers issue\n",
    "#pd.set_option(\"max_rows\", None)\n",
    "df.head()"
   ]
  },
  {
   "cell_type": "markdown",
   "metadata": {},
   "source": [
    "#### Here i am using fbprophet module which is a strong module to predict future trend to make it simple and based on that the model data frame has to be always having colums 'ds' and 'y' to fit in the model. so i have renamed the colums accordingly and tried to see the learning trend of the data ."
   ]
  },
  {
   "cell_type": "code",
   "execution_count": 8,
   "metadata": {},
   "outputs": [
    {
     "name": "stdout",
     "output_type": "stream",
     "text": [
      "             ds       y\n",
      "4054 2021-07-02  103.32\n",
      "4055 2021-07-07    0.00\n",
      "4056 2021-07-07   64.37\n",
      "4057 2021-07-05  104.68\n",
      "4058 2021-07-22  211.09\n"
     ]
    },
    {
     "name": "stderr",
     "output_type": "stream",
     "text": [
      "INFO:numexpr.utils:NumExpr defaulting to 8 threads.\n",
      "INFO:fbprophet:Disabling yearly seasonality. Run prophet with yearly_seasonality=True to override this.\n",
      "INFO:fbprophet:Disabling daily seasonality. Run prophet with daily_seasonality=True to override this.\n"
     ]
    },
    {
     "name": "stdout",
     "output_type": "stream",
     "text": [
      "MAE: 63.340\n"
     ]
    },
    {
     "data": {
      "image/png": "[encoded data removed]",
      "text/plain": [
       "<Figure size 432x288 with 1 Axes>"
      ]
     },
     "metadata": {
      "needs_background": "light"
     },
     "output_type": "display_data"
    }
   ],
   "source": [
    "# prepare expected column names\n",
    "df.columns = ['ds', 'y']\n",
    "df['ds']= to_datetime(df['ds'])\n",
    "# create test dataset, remove last 12 months\n",
    "train = df.drop(df.index[-12:])\n",
    "print(train.tail())\n",
    "# define the model\n",
    "model = Prophet()\n",
    "# fit the model\n",
    "model.fit(train)\n",
    "# define the period for which we want a prediction\n",
    "future = list()\n",
    "for i in range(1, 12):\n",
    "\tdate = '2021-%02d' % i\n",
    "\tfuture.append([date])\n",
    "future = pd.DataFrame(future)\n",
    "future.columns = ['ds']\n",
    "future['ds'] = to_datetime(future['ds'])\n",
    "# use the model to make a forecast\n",
    "forecast = model.predict(future)\n",
    "# calculate MAE between expected and predicted values for december\n",
    "y_true = df['y'][-11:].values\n",
    "y_pred = forecast['yhat'].values\n",
    "mae = mean_absolute_error(y_true, y_pred)\n",
    "print('MAE: %.3f' % mae)\n",
    "# plot expected vs actual\n",
    "plt.title('Actuval vs Predicted Revenue Graph')\n",
    "plt.xlabel('Months')\n",
    "plt.ylabel('Revenue')\n",
    "pyplot.plot(y_true, label='Actual')\n",
    "pyplot.plot(y_pred, label='Predicted')\n",
    "pyplot.legend()\n",
    "pyplot.show()"
   ]
  },
  {
   "cell_type": "markdown",
   "metadata": {},
   "source": [
    "## Conclusion:\n",
    "### I have performed revenue prediction-Trend Analysis and tried to plot the graph. I have observed here that my model is predecting the future revenue as i thought. Becuase prediction graph until 2022 shows that the average value of the revenue for next months.  its performing better becuase the mean is almost same for the trained data."
   ]
  }
 ],
 "metadata": {
  "kernelspec": {
   "display_name": "Python 3",
   "language": "python",
   "name": "python3"
  },
  "language_info": {
   "codemirror_mode": {
    "name": "ipython",
    "version": 3
   },
   "file_extension": ".py",
   "mimetype": "text/x-python",
   "name": "python",
   "nbconvert_exporter": "python",
   "pygments_lexer": "ipython3",
   "version": "3.8.5"
  }
 },
 "nbformat": 4,
 "nbformat_minor": 4
}
