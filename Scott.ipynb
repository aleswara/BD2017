{
 "cells": [
  {
   "cell_type": "code",
   "execution_count": 15,
   "metadata": {},
   "outputs": [],
   "source": [
    "import pandas as pd\n",
    "from bs4 import BeautifulSoup\n",
    "import requests\n",
    "\n",
    "from selenium import webdriver\n",
    "from selenium.webdriver.common.by import By\n",
    "from selenium.webdriver.common.keys import Keys\n",
    "from selenium.webdriver.support.ui import WebDriverWait\n",
    "from selenium.webdriver.support.expected_conditions import presence_of_element_located\n",
    "from selenium.common.exceptions import NoSuchElementException\n",
    "import json\n",
    "import time \n",
    "import string\n",
    "import openpyxl\n",
    "import os\n",
    "import json, codecs"
   ]
  },
  {
   "cell_type": "code",
   "execution_count": 16,
   "metadata": {},
   "outputs": [],
   "source": [
    "#Loading Selenium Webdriver \n",
    "driver= webdriver.Chrome()\n",
    "wait = WebDriverWait(driver, 5)\n",
    "\n",
    "#Opening website\n",
    "driver.get(\"https://www.scott-sports.com/se/en/dealers/locator\")\n",
    "time.sleep(3)"
   ]
  },
  {
   "cell_type": "code",
   "execution_count": 17,
   "metadata": {},
   "outputs": [],
   "source": [
    "button=driver.find_element(By.XPATH, '//*[@id=\"page\"]/header/div[3]/div/div/div/button[1]')\n",
    "driver.execute_script(\"arguments[0].click();\", button)"
   ]
  },
  {
   "cell_type": "code",
   "execution_count": 18,
   "metadata": {},
   "outputs": [],
   "source": [
    "button2=driver.find_element(By.XPATH, '//*[@id=\"dealer-locator--categoryType-wrapper\"]/div[1]')\n",
    "driver.execute_script(\"arguments[0].click();\", button2)"
   ]
  },
  {
   "cell_type": "code",
   "execution_count": 21,
   "metadata": {},
   "outputs": [],
   "source": [
    "#Finding the search box \n",
    "searchbox=driver.find_element(By.XPATH, value='//*[@id=\"geocoder\"]/div/input')\n",
    "location= \"Sweden\"\n",
    "searchbox.send_keys(location)\n",
    "searchbox.send_keys(Keys.ENTER)"
   ]
  },
  {
   "cell_type": "code",
   "execution_count": 22,
   "metadata": {},
   "outputs": [],
   "source": [
    "submit = driver.find_element(By.ID, 'submitButton')\n",
    "driver.execute_script(\"arguments[0].click();\", submit)\n",
    "driver.implicitly_wait(10)"
   ]
  },
  {
   "cell_type": "code",
   "execution_count": 23,
   "metadata": {},
   "outputs": [
    {
     "ename": "ElementNotInteractableException",
     "evalue": "Message: element not interactable\n  (Session info: chrome=112.0.5615.138)\nStacktrace:\nBacktrace:\n\tGetHandleVerifier [0x006ADCE3+50899]\n\t(No symbol) [0x0063E111]\n\t(No symbol) [0x00545450]\n\t(No symbol) [0x0056C706]\n\t(No symbol) [0x0056BFD0]\n\t(No symbol) [0x0058B8FC]\n\t(No symbol) [0x00568EC6]\n\t(No symbol) [0x0058BC54]\n\t(No symbol) [0x0059E01C]\n\t(No symbol) [0x0058B6F6]\n\t(No symbol) [0x00567708]\n\t(No symbol) [0x0056886D]\n\tGetHandleVerifier [0x00913EAE+2566302]\n\tGetHandleVerifier [0x009492B1+2784417]\n\tGetHandleVerifier [0x0094327C+2759788]\n\tGetHandleVerifier [0x00745740+672048]\n\t(No symbol) [0x00648872]\n\t(No symbol) [0x006441C8]\n\t(No symbol) [0x006442AB]\n\t(No symbol) [0x006371B7]\n\t(No symbol) [0x77810099]\n\tRtlGetAppContainerNamedObjectPath [0x77D37B6E+286]\n\tRtlGetAppContainerNamedObjectPath [0x77D37B3E+238]\n",
     "output_type": "error",
     "traceback": [
      "\u001b[1;31m---------------------------------------------------------------------------\u001b[0m",
      "\u001b[1;31mElementNotInteractableException\u001b[0m           Traceback (most recent call last)",
      "\u001b[1;32mc:\\Users\\mpirker\\OneDrive - Accell Group\\Documenten\\Python Projects\\Webscraping\\Scott.ipynb Cell 7\u001b[0m in \u001b[0;36m<cell line: 4>\u001b[1;34m()\u001b[0m\n\u001b[0;32m      <a href='vscode-notebook-cell:/c%3A/Users/mpirker/OneDrive%20-%20Accell%20Group/Documenten/Python%20Projects/Webscraping/Scott.ipynb#W5sZmlsZQ%3D%3D?line=2'>3</a>\u001b[0m keepScrolling\u001b[39m=\u001b[39m\u001b[39mTrue\u001b[39;00m\n\u001b[0;32m      <a href='vscode-notebook-cell:/c%3A/Users/mpirker/OneDrive%20-%20Accell%20Group/Documenten/Python%20Projects/Webscraping/Scott.ipynb#W5sZmlsZQ%3D%3D?line=3'>4</a>\u001b[0m \u001b[39mwhile\u001b[39;00m(keepScrolling):\n\u001b[1;32m----> <a href='vscode-notebook-cell:/c%3A/Users/mpirker/OneDrive%20-%20Accell%20Group/Documenten/Python%20Projects/Webscraping/Scott.ipynb#W5sZmlsZQ%3D%3D?line=4'>5</a>\u001b[0m     divSideBar\u001b[39m.\u001b[39;49msend_keys(Keys\u001b[39m.\u001b[39;49mPAGE_DOWN)\n\u001b[0;32m      <a href='vscode-notebook-cell:/c%3A/Users/mpirker/OneDrive%20-%20Accell%20Group/Documenten/Python%20Projects/Webscraping/Scott.ipynb#W5sZmlsZQ%3D%3D?line=5'>6</a>\u001b[0m     time\u001b[39m.\u001b[39msleep(\u001b[39m0.5\u001b[39m)\n\u001b[0;32m      <a href='vscode-notebook-cell:/c%3A/Users/mpirker/OneDrive%20-%20Accell%20Group/Documenten/Python%20Projects/Webscraping/Scott.ipynb#W5sZmlsZQ%3D%3D?line=6'>7</a>\u001b[0m     divSideBar\u001b[39m.\u001b[39msend_keys(Keys\u001b[39m.\u001b[39mPAGE_DOWN)\n",
      "File \u001b[1;32mc:\\Users\\mpirker\\Anaconda3\\lib\\site-packages\\selenium\\webdriver\\remote\\webelement.py:231\u001b[0m, in \u001b[0;36mWebElement.send_keys\u001b[1;34m(self, *value)\u001b[0m\n\u001b[0;32m    228\u001b[0m             remote_files\u001b[39m.\u001b[39mappend(\u001b[39mself\u001b[39m\u001b[39m.\u001b[39m_upload(file))\n\u001b[0;32m    229\u001b[0m         value \u001b[39m=\u001b[39m \u001b[39m\"\u001b[39m\u001b[39m\\n\u001b[39;00m\u001b[39m\"\u001b[39m\u001b[39m.\u001b[39mjoin(remote_files)\n\u001b[1;32m--> 231\u001b[0m \u001b[39mself\u001b[39;49m\u001b[39m.\u001b[39;49m_execute(\n\u001b[0;32m    232\u001b[0m     Command\u001b[39m.\u001b[39;49mSEND_KEYS_TO_ELEMENT, {\u001b[39m\"\u001b[39;49m\u001b[39mtext\u001b[39;49m\u001b[39m\"\u001b[39;49m: \u001b[39m\"\u001b[39;49m\u001b[39m\"\u001b[39;49m\u001b[39m.\u001b[39;49mjoin(keys_to_typing(value)), \u001b[39m\"\u001b[39;49m\u001b[39mvalue\u001b[39;49m\u001b[39m\"\u001b[39;49m: keys_to_typing(value)}\n\u001b[0;32m    233\u001b[0m )\n",
      "File \u001b[1;32mc:\\Users\\mpirker\\Anaconda3\\lib\\site-packages\\selenium\\webdriver\\remote\\webelement.py:404\u001b[0m, in \u001b[0;36mWebElement._execute\u001b[1;34m(self, command, params)\u001b[0m\n\u001b[0;32m    402\u001b[0m     params \u001b[39m=\u001b[39m {}\n\u001b[0;32m    403\u001b[0m params[\u001b[39m\"\u001b[39m\u001b[39mid\u001b[39m\u001b[39m\"\u001b[39m] \u001b[39m=\u001b[39m \u001b[39mself\u001b[39m\u001b[39m.\u001b[39m_id\n\u001b[1;32m--> 404\u001b[0m \u001b[39mreturn\u001b[39;00m \u001b[39mself\u001b[39;49m\u001b[39m.\u001b[39;49m_parent\u001b[39m.\u001b[39;49mexecute(command, params)\n",
      "File \u001b[1;32mc:\\Users\\mpirker\\Anaconda3\\lib\\site-packages\\selenium\\webdriver\\remote\\webdriver.py:440\u001b[0m, in \u001b[0;36mWebDriver.execute\u001b[1;34m(self, driver_command, params)\u001b[0m\n\u001b[0;32m    438\u001b[0m response \u001b[39m=\u001b[39m \u001b[39mself\u001b[39m\u001b[39m.\u001b[39mcommand_executor\u001b[39m.\u001b[39mexecute(driver_command, params)\n\u001b[0;32m    439\u001b[0m \u001b[39mif\u001b[39;00m response:\n\u001b[1;32m--> 440\u001b[0m     \u001b[39mself\u001b[39;49m\u001b[39m.\u001b[39;49merror_handler\u001b[39m.\u001b[39;49mcheck_response(response)\n\u001b[0;32m    441\u001b[0m     response[\u001b[39m\"\u001b[39m\u001b[39mvalue\u001b[39m\u001b[39m\"\u001b[39m] \u001b[39m=\u001b[39m \u001b[39mself\u001b[39m\u001b[39m.\u001b[39m_unwrap_value(response\u001b[39m.\u001b[39mget(\u001b[39m\"\u001b[39m\u001b[39mvalue\u001b[39m\u001b[39m\"\u001b[39m, \u001b[39mNone\u001b[39;00m))\n\u001b[0;32m    442\u001b[0m     \u001b[39mreturn\u001b[39;00m response\n",
      "File \u001b[1;32mc:\\Users\\mpirker\\Anaconda3\\lib\\site-packages\\selenium\\webdriver\\remote\\errorhandler.py:245\u001b[0m, in \u001b[0;36mErrorHandler.check_response\u001b[1;34m(self, response)\u001b[0m\n\u001b[0;32m    243\u001b[0m         alert_text \u001b[39m=\u001b[39m value[\u001b[39m\"\u001b[39m\u001b[39malert\u001b[39m\u001b[39m\"\u001b[39m]\u001b[39m.\u001b[39mget(\u001b[39m\"\u001b[39m\u001b[39mtext\u001b[39m\u001b[39m\"\u001b[39m)\n\u001b[0;32m    244\u001b[0m     \u001b[39mraise\u001b[39;00m exception_class(message, screen, stacktrace, alert_text)  \u001b[39m# type: ignore[call-arg]  # mypy is not smart enough here\u001b[39;00m\n\u001b[1;32m--> 245\u001b[0m \u001b[39mraise\u001b[39;00m exception_class(message, screen, stacktrace)\n",
      "\u001b[1;31mElementNotInteractableException\u001b[0m: Message: element not interactable\n  (Session info: chrome=112.0.5615.138)\nStacktrace:\nBacktrace:\n\tGetHandleVerifier [0x006ADCE3+50899]\n\t(No symbol) [0x0063E111]\n\t(No symbol) [0x00545450]\n\t(No symbol) [0x0056C706]\n\t(No symbol) [0x0056BFD0]\n\t(No symbol) [0x0058B8FC]\n\t(No symbol) [0x00568EC6]\n\t(No symbol) [0x0058BC54]\n\t(No symbol) [0x0059E01C]\n\t(No symbol) [0x0058B6F6]\n\t(No symbol) [0x00567708]\n\t(No symbol) [0x0056886D]\n\tGetHandleVerifier [0x00913EAE+2566302]\n\tGetHandleVerifier [0x009492B1+2784417]\n\tGetHandleVerifier [0x0094327C+2759788]\n\tGetHandleVerifier [0x00745740+672048]\n\t(No symbol) [0x00648872]\n\t(No symbol) [0x006441C8]\n\t(No symbol) [0x006442AB]\n\t(No symbol) [0x006371B7]\n\t(No symbol) [0x77810099]\n\tRtlGetAppContainerNamedObjectPath [0x77D37B6E+286]\n\tRtlGetAppContainerNamedObjectPath [0x77D37B3E+238]\n"
     ]
    }
   ],
   "source": [
    "divSideBar=driver.find_element(By.CLASS_NAME, 'dealer-results')\n",
    "\n",
    "keepScrolling=True\n",
    "while(keepScrolling):\n",
    "    divSideBar.send_keys(Keys.PAGE_DOWN)\n",
    "    time.sleep(0.5)\n",
    "    divSideBar.send_keys(Keys.PAGE_DOWN)\n",
    "    time.sleep(0.5)\n",
    "    html =driver.find_element(By.TAG_NAME, \"html\").get_attribute('outerHTML')\n",
    "    if(html.find(\"You couldnt find who you are looking for?\")!=-1):\n",
    "        keepScrolling=False"
   ]
  },
  {
   "cell_type": "code",
   "execution_count": null,
   "metadata": {},
   "outputs": [],
   "source": [
    "html = driver.page_source\n",
    "soup = BeautifulSoup(html, \"html.parser\")\n",
    "df3 = pd.DataFrame(columns=['Name', 'Street', 'City', 'Country'])"
   ]
  },
  {
   "cell_type": "code",
   "execution_count": null,
   "metadata": {},
   "outputs": [],
   "source": [
    "results = soup.find_all('div', {'id': 'dl_list'})\n",
    "\n",
    "for result in results:\n",
    "    name = result.find('h3').text\n",
    "    address = result.find('p').text\n",
    "    address = address.split(',')\n",
    "    street = address[0]\n",
    "    city = address [1]\n",
    "    #address = address.split()\n",
    "    country = \"Sweden\"\n",
    "    #print(name, address)\n",
    "        \n",
    "    #df3.loc[len(df3)] = [name, country]\n",
    "    df3.loc[len(df3)] = [name, street, city, country]\n",
    "    #print(name, address, country, website)\n"
   ]
  },
  {
   "cell_type": "code",
   "execution_count": null,
   "metadata": {},
   "outputs": [],
   "source": [
    "df3"
   ]
  },
  {
   "cell_type": "code",
   "execution_count": null,
   "metadata": {},
   "outputs": [],
   "source": [
    "df3.to_excel(\"Scott_locations.xlsx\")"
   ]
  }
 ],
 "metadata": {
  "kernelspec": {
   "display_name": "base",
   "language": "python",
   "name": "python3"
  },
  "language_info": {
   "codemirror_mode": {
    "name": "ipython",
    "version": 3
   },
   "file_extension": ".py",
   "mimetype": "text/x-python",
   "name": "python",
   "nbconvert_exporter": "python",
   "pygments_lexer": "ipython3",
   "version": "3.9.12"
  },
  "orig_nbformat": 4
 },
 "nbformat": 4,
 "nbformat_minor": 2
}
