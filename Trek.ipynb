{
 "cells": [
  {
   "cell_type": "code",
   "execution_count": 1,
   "metadata": {},
   "outputs": [],
   "source": [
    "import pandas as pd\n",
    "from bs4 import BeautifulSoup\n",
    "import requests\n",
    "\n",
    "from selenium import webdriver\n",
    "from selenium.webdriver.common.by import By\n",
    "from selenium.webdriver.common.keys import Keys\n",
    "from selenium.webdriver.support.ui import WebDriverWait\n",
    "from selenium.webdriver.support.expected_conditions import presence_of_element_located\n",
    "from selenium.common.exceptions import NoSuchElementException\n",
    "from selenium.webdriver.support import expected_conditions as EC\n",
    "from selenium.common.exceptions import TimeoutException\n",
    "import time\n",
    "\n",
    "import json\n",
    "import time \n",
    "import string\n",
    "import openpyxl\n",
    "import os\n",
    "import json, codecs"
   ]
  },
  {
   "cell_type": "code",
   "execution_count": 23,
   "metadata": {},
   "outputs": [],
   "source": [
    "#Loading Selenium Webdriver \n",
    "driver= webdriver.Chrome()\n",
    "wait = WebDriverWait(driver, 5)\n",
    "\n",
    "#Opening website\n",
    "driver.get('https://www.trekbikes.com/de/de_DE/store-finder/retailer/SE/')\n",
    "time.sleep(3)"
   ]
  },
  {
   "cell_type": "code",
   "execution_count": 6,
   "metadata": {},
   "outputs": [],
   "source": [
    "#Loading Selenium Webdriver page 2\n",
    "driver= webdriver.Chrome()\n",
    "wait = WebDriverWait(driver, 5)\n",
    "\n",
    "#Opening website\n",
    "driver.get('https://www.trekbikes.com/de/de_DE/store-finder/retailer/SE/1/')\n",
    "time.sleep(3)"
   ]
  },
  {
   "cell_type": "code",
   "execution_count": null,
   "metadata": {},
   "outputs": [],
   "source": [
    "#Loading Selenium Webdriver page 3\n",
    "driver= webdriver.Chrome()\n",
    "wait = WebDriverWait(driver, 5)\n",
    "\n",
    "#Opening website\n",
    "driver.get('https://www.trekbikes.com/de/de_DE/store-finder/retailer/SE/2/')\n",
    "time.sleep(3)"
   ]
  },
  {
   "cell_type": "code",
   "execution_count": 24,
   "metadata": {},
   "outputs": [],
   "source": [
    "#cookies\n",
    "button=driver.find_element(By.ID, 'CybotCookiebotDialogBodyButtonAccept')\n",
    "driver.execute_script(\"arguments[0].click();\", button)\n",
    "time.sleep(3)\n",
    "\n",
    "df = pd.DataFrame(columns=['Name', 'Addresse'])"
   ]
  },
  {
   "cell_type": "code",
   "execution_count": 25,
   "metadata": {},
   "outputs": [
    {
     "ename": "AttributeError",
     "evalue": "'NoneType' object has no attribute 'text'",
     "output_type": "error",
     "traceback": [
      "\u001b[1;31m---------------------------------------------------------------------------\u001b[0m",
      "\u001b[1;31mAttributeError\u001b[0m                            Traceback (most recent call last)",
      "\u001b[1;32mc:\\Users\\mpirker\\OneDrive - Accell Group\\Documenten\\Python Projects\\Webscraping\\Trek.ipynb Cell 6\u001b[0m in \u001b[0;36m<cell line: 14>\u001b[1;34m()\u001b[0m\n\u001b[0;32m     <a href='vscode-notebook-cell:/c%3A/Users/mpirker/OneDrive%20-%20Accell%20Group/Documenten/Python%20Projects/Webscraping/Trek.ipynb#X41sZmlsZQ%3D%3D?line=21'>22</a>\u001b[0m     \u001b[39m# Do something with the parsed page, for example, print the title\u001b[39;00m\n\u001b[0;32m     <a href='vscode-notebook-cell:/c%3A/Users/mpirker/OneDrive%20-%20Accell%20Group/Documenten/Python%20Projects/Webscraping/Trek.ipynb#X41sZmlsZQ%3D%3D?line=22'>23</a>\u001b[0m     name \u001b[39m=\u001b[39m soup\u001b[39m.\u001b[39mfind(\u001b[39m'\u001b[39m\u001b[39mh2\u001b[39m\u001b[39m'\u001b[39m)\u001b[39m.\u001b[39mtext\n\u001b[1;32m---> <a href='vscode-notebook-cell:/c%3A/Users/mpirker/OneDrive%20-%20Accell%20Group/Documenten/Python%20Projects/Webscraping/Trek.ipynb#X41sZmlsZQ%3D%3D?line=23'>24</a>\u001b[0m     address \u001b[39m=\u001b[39m soup\u001b[39m.\u001b[39;49mfind(\u001b[39m'\u001b[39;49m\u001b[39mul\u001b[39;49m\u001b[39m'\u001b[39;49m, {\u001b[39m'\u001b[39;49m\u001b[39mclass\u001b[39;49m\u001b[39m'\u001b[39;49m:\u001b[39m'\u001b[39;49m\u001b[39mstore-detail__address medium-12 large-6 columns\u001b[39;49m\u001b[39m'\u001b[39;49m})\u001b[39m.\u001b[39;49mtext\n\u001b[0;32m     <a href='vscode-notebook-cell:/c%3A/Users/mpirker/OneDrive%20-%20Accell%20Group/Documenten/Python%20Projects/Webscraping/Trek.ipynb#X41sZmlsZQ%3D%3D?line=24'>25</a>\u001b[0m     df\u001b[39m.\u001b[39mloc[\u001b[39mlen\u001b[39m(df)] \u001b[39m=\u001b[39m [name, address]\n\u001b[0;32m     <a href='vscode-notebook-cell:/c%3A/Users/mpirker/OneDrive%20-%20Accell%20Group/Documenten/Python%20Projects/Webscraping/Trek.ipynb#X41sZmlsZQ%3D%3D?line=26'>27</a>\u001b[0m driver\u001b[39m.\u001b[39mquit()\n",
      "\u001b[1;31mAttributeError\u001b[0m: 'NoneType' object has no attribute 'text'"
     ]
    }
   ],
   "source": [
    "# find all links on the page\n",
    "page = driver.find_element(By.CLASS_NAME, 'vertical-spacer-4')\n",
    "links = page.find_elements(By.CSS_SELECTOR, 'a')\n",
    "\n",
    "# Store the URLs of the links in a list\n",
    "link_urls = [link.get_attribute('href') for link in links]\n",
    "\n",
    "# Loop through the link URLs\n",
    "for link_url in link_urls:\n",
    "    # Open a new tab or window and navigate to the link URL\n",
    "    driver.execute_script(\"window.open('{}', '_blank');\".format(link_url))\n",
    "\n",
    "# Switch to each tab or window and scrape the data\n",
    "for i in range(1, len(link_urls) + 1):\n",
    "    # Switch to the i-th tab or window\n",
    "    driver.switch_to.window(driver.window_handles[i])\n",
    "\n",
    "    # Get the page source and parse it with Beautiful Soup\n",
    "    page_source = driver.page_source\n",
    "    soup = BeautifulSoup(page_source, 'html.parser')\n",
    "\n",
    "    # Do something with the parsed page, for example, print the title\n",
    "    name = soup.find('h2').text\n",
    "    address = soup.find('ul', {'class':'store-detail__address medium-12 large-6 columns'}).text\n",
    "    df.loc[len(df)] = [name, address]\n",
    "\n",
    "driver.quit()"
   ]
  },
  {
   "cell_type": "code",
   "execution_count": 19,
   "metadata": {},
   "outputs": [
    {
     "data": {
      "text/html": [
       "<div>\n",
       "<style scoped>\n",
       "    .dataframe tbody tr th:only-of-type {\n",
       "        vertical-align: middle;\n",
       "    }\n",
       "\n",
       "    .dataframe tbody tr th {\n",
       "        vertical-align: top;\n",
       "    }\n",
       "\n",
       "    .dataframe thead th {\n",
       "        text-align: right;\n",
       "    }\n",
       "</style>\n",
       "<table border=\"1\" class=\"dataframe\">\n",
       "  <thead>\n",
       "    <tr style=\"text-align: right;\">\n",
       "      <th></th>\n",
       "      <th>Name</th>\n",
       "    </tr>\n",
       "  </thead>\n",
       "  <tbody>\n",
       "    <tr>\n",
       "      <th>0</th>\n",
       "      <td>Västra Cykelaffären</td>\n",
       "    </tr>\n",
       "    <tr>\n",
       "      <th>1</th>\n",
       "      <td>Bikemasters</td>\n",
       "    </tr>\n",
       "    <tr>\n",
       "      <th>2</th>\n",
       "      <td>Maltes Cykel &amp; Sport AB</td>\n",
       "    </tr>\n",
       "    <tr>\n",
       "      <th>3</th>\n",
       "      <td>Sportson Kungsbacka</td>\n",
       "    </tr>\n",
       "    <tr>\n",
       "      <th>4</th>\n",
       "      <td>Sportson Kungsbacka</td>\n",
       "    </tr>\n",
       "    <tr>\n",
       "      <th>...</th>\n",
       "      <td>...</td>\n",
       "    </tr>\n",
       "    <tr>\n",
       "      <th>96</th>\n",
       "      <td>Per Cykel och Sport AB</td>\n",
       "    </tr>\n",
       "    <tr>\n",
       "      <th>97</th>\n",
       "      <td>Sportringen Värmdö</td>\n",
       "    </tr>\n",
       "    <tr>\n",
       "      <th>98</th>\n",
       "      <td>Cykelgiganten Kristianstad</td>\n",
       "    </tr>\n",
       "    <tr>\n",
       "      <th>99</th>\n",
       "      <td>Team Sportia Bergvik</td>\n",
       "    </tr>\n",
       "    <tr>\n",
       "      <th>100</th>\n",
       "      <td>Sportson Danderyd</td>\n",
       "    </tr>\n",
       "  </tbody>\n",
       "</table>\n",
       "<p>101 rows × 1 columns</p>\n",
       "</div>"
      ],
      "text/plain": [
       "                           Name\n",
       "0           Västra Cykelaffären\n",
       "1                   Bikemasters\n",
       "2       Maltes Cykel & Sport AB\n",
       "3           Sportson Kungsbacka\n",
       "4           Sportson Kungsbacka\n",
       "..                          ...\n",
       "96       Per Cykel och Sport AB\n",
       "97           Sportringen Värmdö\n",
       "98   Cykelgiganten Kristianstad\n",
       "99         Team Sportia Bergvik\n",
       "100           Sportson Danderyd\n",
       "\n",
       "[101 rows x 1 columns]"
      ]
     },
     "execution_count": 19,
     "metadata": {},
     "output_type": "execute_result"
    }
   ],
   "source": [
    "df"
   ]
  },
  {
   "cell_type": "code",
   "execution_count": 22,
   "metadata": {},
   "outputs": [],
   "source": [
    "#change file name according to page number - BE CAREFUL NOT TO OVERWRITE THE OLD DATA\n",
    "df.to_excel(\"Trek_locations_new.xlsx\")"
   ]
  }
 ],
 "metadata": {
  "kernelspec": {
   "display_name": "base",
   "language": "python",
   "name": "python3"
  },
  "language_info": {
   "codemirror_mode": {
    "name": "ipython",
    "version": 3
   },
   "file_extension": ".py",
   "mimetype": "text/x-python",
   "name": "python",
   "nbconvert_exporter": "python",
   "pygments_lexer": "ipython3",
   "version": "3.9.12"
  },
  "orig_nbformat": 4
 },
 "nbformat": 4,
 "nbformat_minor": 2
}
