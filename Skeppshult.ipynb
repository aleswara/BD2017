{
 "cells": [
  {
   "cell_type": "code",
   "execution_count": 1,
   "metadata": {},
   "outputs": [],
   "source": [
    "from selenium import webdriver\n",
    "from selenium.webdriver.common.by import By\n",
    "from selenium.webdriver.common.keys import Keys\n",
    "from selenium.webdriver.support.ui import WebDriverWait\n",
    "from selenium.webdriver.support.expected_conditions import presence_of_element_located\n",
    "from selenium.common.exceptions import NoSuchElementException\n",
    "import json\n",
    "import time \n",
    "import string\n",
    "import openpyxl\n",
    "import os\n",
    "import json, codecs\n",
    "import pandas as pd\n",
    "from bs4 import BeautifulSoup\n",
    "import requests\n",
    "import string"
   ]
  },
  {
   "cell_type": "code",
   "execution_count": 2,
   "metadata": {},
   "outputs": [],
   "source": [
    "response = requests.get(\"https://www.skeppshult.se/sv/butikerna/\")\n",
    "soup = BeautifulSoup(response.content, 'lxml')\n",
    "\n",
    "df = pd.DataFrame(columns=['Name', 'Street', 'Zip_Code', 'City', 'Country', 'Website'])"
   ]
  },
  {
   "cell_type": "code",
   "execution_count": 3,
   "metadata": {},
   "outputs": [
    {
     "name": "stdout",
     "output_type": "stream",
     "text": [
      "NIKLAS CYKELVERKSTAD SPANNMÅLSGATAN 10  456 31  NOSSEBRO x\n"
     ]
    }
   ],
   "source": [
    "results = soup.find_all('div', 'retailer-list 2')\n",
    "#print(results)\n",
    "\n",
    "for result in results:\n",
    "    address = result.find('div', {'class':'col-md-3 retailer'}).text\n",
    "    address = address.split(\"\\r\")\n",
    "    name = address[1].replace('\\n', '').replace(' ', '', 40)\n",
    "    street = address[2].replace('\\n', '')\n",
    "    zip = address[3].replace('\\n', '')\n",
    "    city = address[4].replace('\\n', '')\n",
    "    try: \n",
    "        website = address[8]\n",
    "    except:\n",
    "        website = \"x\"\n",
    "    print(name, street, zip, city, website)\n",
    "    #city = result.find('div', {'class':'city'}).text\n",
    "    country = \"Sweden\"\n",
    "        \n",
    "    #print(address)\n",
    "    df.loc[len(df)] = [name, street, zip, city, country, website]\n",
    "\n"
   ]
  },
  {
   "cell_type": "code",
   "execution_count": 4,
   "metadata": {},
   "outputs": [
    {
     "data": {
      "text/html": [
       "<div>\n",
       "<style scoped>\n",
       "    .dataframe tbody tr th:only-of-type {\n",
       "        vertical-align: middle;\n",
       "    }\n",
       "\n",
       "    .dataframe tbody tr th {\n",
       "        vertical-align: top;\n",
       "    }\n",
       "\n",
       "    .dataframe thead th {\n",
       "        text-align: right;\n",
       "    }\n",
       "</style>\n",
       "<table border=\"1\" class=\"dataframe\">\n",
       "  <thead>\n",
       "    <tr style=\"text-align: right;\">\n",
       "      <th></th>\n",
       "      <th>Name</th>\n",
       "      <th>Street</th>\n",
       "      <th>Zip_Code</th>\n",
       "      <th>City</th>\n",
       "      <th>Country</th>\n",
       "      <th>Website</th>\n",
       "    </tr>\n",
       "  </thead>\n",
       "  <tbody>\n",
       "    <tr>\n",
       "      <th>0</th>\n",
       "      <td>NIKLAS CYKELVERKSTAD</td>\n",
       "      <td>SPANNMÅLSGATAN 10</td>\n",
       "      <td>456 31</td>\n",
       "      <td>NOSSEBRO</td>\n",
       "      <td>Sweden</td>\n",
       "      <td>x</td>\n",
       "    </tr>\n",
       "  </tbody>\n",
       "</table>\n",
       "</div>"
      ],
      "text/plain": [
       "                   Name              Street Zip_Code       City Country  \\\n",
       "0  NIKLAS CYKELVERKSTAD  SPANNMÅLSGATAN 10    456 31   NOSSEBRO  Sweden   \n",
       "\n",
       "  Website  \n",
       "0       x  "
      ]
     },
     "execution_count": 4,
     "metadata": {},
     "output_type": "execute_result"
    }
   ],
   "source": [
    "df = df.replace('\\n', '')\n",
    "df"
   ]
  },
  {
   "cell_type": "code",
   "execution_count": 6,
   "metadata": {},
   "outputs": [],
   "source": [
    "df.to_excel(\"Skeppshult_locations.xlsx\")"
   ]
  }
 ],
 "metadata": {
  "kernelspec": {
   "display_name": "base",
   "language": "python",
   "name": "python3"
  },
  "language_info": {
   "codemirror_mode": {
    "name": "ipython",
    "version": 3
   },
   "file_extension": ".py",
   "mimetype": "text/x-python",
   "name": "python",
   "nbconvert_exporter": "python",
   "pygments_lexer": "ipython3",
   "version": "3.9.12"
  },
  "orig_nbformat": 4
 },
 "nbformat": 4,
 "nbformat_minor": 2
}
